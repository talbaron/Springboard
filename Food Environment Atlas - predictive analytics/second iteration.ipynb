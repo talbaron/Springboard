{
 "cells": [
  {
   "cell_type": "code",
   "execution_count": 2,
   "metadata": {
    "collapsed": false
   },
   "outputs": [],
   "source": [
    "import numpy as np\n",
    "import pandas as pd\n",
    "from sklearn import linear_model\n",
    "from sklearn import svm\n",
    "from sklearn import neural_network\n",
    "from sklearn.decomposition import PCA\n",
    "from sklearn.feature_selection import SelectKBest\n",
    "from sklearn.feature_selection import f_regression\n",
    "from sklearn.model_selection import train_test_split\n",
    "from sklearn.naive_bayes import MultinomialNB\n",
    "from sklearn.naive_bayes import GaussianNB\n",
    "from sklearn import tree\n",
    "from sklearn.ensemble import RandomForestClassifier\n",
    "from sklearn.metrics import accuracy_score\n",
    "import xgboost as xgb\n",
    "import matplotlib.pyplot as plt\n",
    "import scipy.stats as sc"
   ]
  },
  {
   "cell_type": "code",
   "execution_count": 3,
   "metadata": {
    "collapsed": false
   },
   "outputs": [],
   "source": [
    "# Import the entire dataset\n",
    "dataset = pd.read_excel('Dataset',sheetname=None)\n",
    "data = dataset['Supplemental Data - County']\n",
    "data = data.rename(columns={'FIPS Code':'FIPS','County Name':'County'})"
   ]
  },
  {
   "cell_type": "code",
   "execution_count": 4,
   "metadata": {
    "collapsed": false
   },
   "outputs": [],
   "source": [
    "# Merge all the excel worksheets into one DataFrame\n",
    "for sheet in dataset:\n",
    "    if 'FIPS' in dataset[sheet]:\n",
    "        data = pd.merge(dataset[sheet],data,on=['FIPS','State','County']) \n",
    "data = data.set_index('FIPS')"
   ]
  },
  {
   "cell_type": "code",
   "execution_count": 5,
   "metadata": {
    "collapsed": false
   },
   "outputs": [
    {
     "data": {
      "text/plain": [
       "(2935, 167)"
      ]
     },
     "execution_count": 5,
     "metadata": {},
     "output_type": "execute_result"
    }
   ],
   "source": [
    "# Drop columns that have many NaN values, then rows with any remaining NaN values\n",
    "data.dropna(axis=1,thresh=(len(data)-100),inplace=True)\n",
    "data.dropna(axis=0,inplace=True)\n",
    "data.shape"
   ]
  },
  {
   "cell_type": "code",
   "execution_count": 6,
   "metadata": {
    "collapsed": false
   },
   "outputs": [
    {
     "data": {
      "text/plain": [
       "(2935, 161)"
      ]
     },
     "execution_count": 6,
     "metadata": {},
     "output_type": "execute_result"
    }
   ],
   "source": [
    "# DataFrame of only the numeric features\n",
    "numerics = ['int16', 'int32', 'int64', 'float16', 'float32', 'float64']\n",
    "numeric_data = data.select_dtypes(include=numerics)\n",
    "numeric_data.shape"
   ]
  },
  {
   "cell_type": "code",
   "execution_count": 7,
   "metadata": {
    "collapsed": false
   },
   "outputs": [
    {
     "data": {
      "text/plain": [
       "(0.95903170360412715, 0.0)"
      ]
     },
     "execution_count": 7,
     "metadata": {},
     "output_type": "execute_result"
    }
   ],
   "source": [
    "# Pearson correlation between the SUPERC07 column and the SUPERC12 column\n",
    "sc.pearsonr(numeric_data['SUPERC12'],numeric_data['SUPERC07'])"
   ]
  },
  {
   "cell_type": "code",
   "execution_count": 8,
   "metadata": {
    "collapsed": false
   },
   "outputs": [
    {
     "data": {
      "text/plain": [
       "(2935, 157)"
      ]
     },
     "execution_count": 8,
     "metadata": {},
     "output_type": "execute_result"
    }
   ],
   "source": [
    "# Pick a target column, save it, and delete it from the data along with other dependent columns\n",
    "features = ['SUPERC12','SUPERC07','PCH_SUPERC_07_12','SUPERCPTH07','SUPERCPTH12','PCH_SUPERCPTH_07_12']\n",
    "try:\n",
    "    target = numeric_data[features[0]]\n",
    "except:\n",
    "    pass\n",
    "for feature in features:\n",
    "    try:\n",
    "        del numeric_data[feature]\n",
    "    except:\n",
    "        continue\n",
    "numeric_data.shape"
   ]
  },
  {
   "cell_type": "code",
   "execution_count": 10,
   "metadata": {
    "collapsed": false
   },
   "outputs": [
    {
     "data": {
      "text/plain": [
       "(2935, 154)"
      ]
     },
     "execution_count": 10,
     "metadata": {},
     "output_type": "execute_result"
    }
   ],
   "source": [
    "# Normalized columns to Z-scores\n",
    "norm_data = pd.DataFrame(sc.zscore(numeric_data),index=numeric_data.index,columns=numeric_data.columns)\n",
    "norm_data.dropna(axis=1,inplace=True)\n",
    "norm_target = sc.zscore(target)\n",
    "norm_data.shape"
   ]
  },
  {
   "cell_type": "code",
   "execution_count": 12,
   "metadata": {
    "collapsed": false
   },
   "outputs": [
    {
     "data": {
      "text/plain": [
       "Index([u'LACCESS_POP10', u'LACCESS_CHILD10', u'CONVS12'], dtype='object')"
      ]
     },
     "execution_count": 12,
     "metadata": {},
     "output_type": "execute_result"
    }
   ],
   "source": [
    "# Select the k most predictive features of the target column\n",
    "k_data = SelectKBest(f_regression,k = 3).fit(numeric_data,target)\n",
    "k_columns = k_data.get_support(True)\n",
    "numeric_data.columns[k_columns]"
   ]
  },
  {
   "cell_type": "code",
   "execution_count": 13,
   "metadata": {
    "collapsed": false
   },
   "outputs": [
    {
     "data": {
      "text/plain": [
       "array([ 0.99912985])"
      ]
     },
     "execution_count": 13,
     "metadata": {},
     "output_type": "execute_result"
    }
   ],
   "source": [
    "# PCA for the k most predictive features\n",
    "pca = PCA(n_components=1)\n",
    "reduct_data = pca.fit_transform(numeric_data[numeric_data.columns[k_columns]])\n",
    "pca.explained_variance_ratio_"
   ]
  },
  {
   "cell_type": "code",
   "execution_count": 14,
   "metadata": {
    "collapsed": false
   },
   "outputs": [
    {
     "data": {
      "image/png": "[encoded data removed]",
      "text/plain": [
       "<matplotlib.figure.Figure at 0x7f2897876390>"
      ]
     },
     "metadata": {},
     "output_type": "display_data"
    }
   ],
   "source": [
    "# scatter plot of the target column as a dependency of PC1\n",
    "plt.scatter(reduct_data,target,s=10)\n",
    "plt.show()"
   ]
  },
  {
   "cell_type": "code",
   "execution_count": 15,
   "metadata": {
    "collapsed": false
   },
   "outputs": [
    {
     "data": {
      "text/plain": [
       "(0.87128897941314953, 0.0)"
      ]
     },
     "execution_count": 15,
     "metadata": {},
     "output_type": "execute_result"
    }
   ],
   "source": [
    "# Pearson correlation between PC1 and the target column\n",
    "sc.pearsonr(pd.DataFrame(reduct_data)[0],target)"
   ]
  },
  {
   "cell_type": "code",
   "execution_count": 16,
   "metadata": {
    "collapsed": false
   },
   "outputs": [],
   "source": [
    "# Divide the data into a training-testing subsets\n",
    "seed = 43\n",
    "train_size = 0.7\n",
    "X_train, X_test, y_train, y_test = \\\n",
    "train_test_split(numeric_data, target, train_size = train_size, random_state = seed)"
   ]
  },
  {
   "cell_type": "code",
   "execution_count": 18,
   "metadata": {
    "collapsed": false
   },
   "outputs": [
    {
     "name": "stdout",
     "output_type": "stream",
     "text": [
      "CPU times: user 8 ms, sys: 0 ns, total: 8 ms\n",
      "Wall time: 16.7 ms\n",
      "Coefficients: [  1.60216461e-02  -8.05989936e-03  -5.19581707e-03  -1.05705853e-01\n",
      "   5.03410391e-01   4.57400114e-03   3.67980566e-02   1.67742950e-03\n",
      "   1.46509019e-03  -3.54042172e-01  -5.36031050e-02  -9.97419016e-04\n",
      "   3.59513859e-02   6.49932886e-03   6.92704495e-02  -3.08993768e-02\n",
      "   8.53711817e-03  -7.76792770e-02   5.12160823e-02   9.44575606e-01\n",
      "  -1.29699811e+00   4.02898938e-03  -6.21672509e-03  -4.48680400e-04\n",
      "  -2.62789330e-03  -7.46164718e-02  -1.23622217e-02   3.09674144e-01\n",
      "  -2.94521703e-02  -8.81142156e-04  -4.91510738e-02  -7.66273892e-02\n",
      "  -7.84238630e-02  -7.92604854e-02  -5.30668696e-02  -8.41668847e-02\n",
      "   8.04038824e-01  -1.49740469e-03   2.58169517e-02   5.85192664e-03\n",
      "  -3.39635255e-02   6.60054798e-02   3.73774997e-02  -4.18384329e-02\n",
      "   1.29027790e-02  -6.01516427e-03   2.48815113e+00   3.30492656e-02\n",
      "  -3.25747756e-02  -4.17135240e-02   2.35468144e-01   1.65802846e-03\n",
      "  -1.64507580e-05   1.94134014e-02  -2.96858806e-05  -6.50375687e-03\n",
      "   1.33462323e-04  -6.70278627e-02   7.64916742e-05  -1.02573127e-02\n",
      "  -4.63184937e-04   2.87485760e-02   7.90357844e-01   8.26053952e-02\n",
      "  -7.07752423e-01   3.67356821e-03  -8.05553763e-02  -1.27711267e-01\n",
      "   1.55704460e-09   4.54943437e+00  -6.38872365e+00  -9.40655165e-10\n",
      "   1.09019178e+00  -9.38060715e+00   2.41788779e+00  -3.16061148e+00\n",
      "   6.94263528e+00  -5.13723374e+00   4.42192516e-01   2.30196759e+00\n",
      "  -1.15776216e-09   9.43430299e-01   1.69618967e+01   1.93308048e+00\n",
      "  -1.59072687e+00  -3.52380733e+00  -8.14454561e-04   3.98588918e-03\n",
      "  -3.79818480e-03  -1.21829771e-02  -1.05695658e+01  -1.58144658e+00\n",
      "   8.98811922e+00   1.92287674e+00   9.28986486e-01  -9.93890248e-01\n",
      "   5.63008478e+00   3.99245745e+00  -1.63762733e+00  -2.59143458e+00\n",
      "   2.86266457e+00   5.45409915e+00  -5.56189826e-02  -6.73705709e-01\n",
      "  -2.69654569e+00  -1.74944009e+00  -1.07573440e+00   9.47105592e-01\n",
      "  -9.27023599e-01   3.27927356e+00   4.07326674e-01   1.33435027e+00\n",
      "  -2.87194688e+00   5.07061522e+00   1.78368767e+00  -5.07176438e+00\n",
      "   5.93181961e+00   4.07604456e+00  -2.34525249e+00   2.29593610e+00\n",
      "   3.53953772e-01   3.15651379e-01   3.53953772e-01   4.84350479e-03\n",
      "  -8.42018549e-03   2.77647992e-03   5.87261230e-03  -3.33209066e-01\n",
      "  -2.38034746e-03  -3.92734674e-02   2.71564591e-02  -7.29692999e-03\n",
      "   4.33543169e-01  -4.11174348e-01   6.85561405e-03  -6.54257152e-02\n",
      "   7.37636723e-02   1.43991802e+00  -1.39529280e+00  -1.11283095e-02\n",
      "   1.58542875e-02   1.21572037e-04   3.08876660e-01  -2.38155373e-01\n",
      "  -1.64342359e-03   2.48401549e-02  -3.32852159e-02  -2.30175065e-03\n",
      "  -7.97524525e-02  -6.31990777e-02   2.93755889e-03   4.86703124e-05\n",
      "  -3.09484064e-04   2.42315409e-04   5.71986928e-05  -4.63975807e-05\n",
      "   4.40187131e-06]\n",
      "intercept: -112.991305682\n",
      "Mean squared error: 1.59241\n",
      "Variance score: 0.89\n"
     ]
    }
   ],
   "source": [
    "# Linear regression model\n",
    "%time regr = linear_model.LinearRegression().fit(X_train, y_train)\n",
    "y_pred = regr.predict(X_test)\n",
    "\n",
    "# The coefficients\n",
    "print 'Coefficients:', regr.coef_\n",
    "\n",
    "# The intercept\n",
    "print 'intercept:', regr.intercept_\n",
    "\n",
    "# The mean squared error\n",
    "print (\"Mean squared error: %.5f\" %np.mean((y_pred - y_test) ** 2))\n",
    "\n",
    "# Explained variance score: 1 is perfect prediction\n",
    "print ('Variance score: %.2f' %regr.score(X_test, y_test))"
   ]
  },
  {
   "cell_type": "code",
   "execution_count": 19,
   "metadata": {
    "collapsed": false
   },
   "outputs": [
    {
     "name": "stdout",
     "output_type": "stream",
     "text": [
      "CPU times: user 972 ms, sys: 84 ms, total: 1.06 s\n",
      "Wall time: 1.22 s\n",
      "Variance score: -0.05\n"
     ]
    }
   ],
   "source": [
    "# SVM regression model\n",
    "%time svr = svm.SVR().fit(X_train, y_train)\n",
    "y_pred = svr.predict(X_test)\n",
    "\n",
    "# Explained variance score: 1 is perfect prediction\n",
    "print ('Variance score: %.2f' %svr.score(X_test, y_test))"
   ]
  },
  {
   "cell_type": "code",
   "execution_count": 20,
   "metadata": {
    "collapsed": false
   },
   "outputs": [
    {
     "name": "stdout",
     "output_type": "stream",
     "text": [
      "CPU times: user 68 ms, sys: 4 ms, total: 72 ms\n",
      "Wall time: 128 ms\n",
      "Variance score: -4504316.86\n"
     ]
    }
   ],
   "source": [
    "# Neural network regression model\n",
    "%time mlp = neural_network.MLPRegressor().fit(X_train, y_train)\n",
    "y_pred = mlp.predict(X_test)\n",
    "\n",
    "# Explained variance score: 1 is perfect prediction\n",
    "print ('Variance score: %.2f' %mlp.score(X_test, y_test))"
   ]
  },
  {
   "cell_type": "code",
   "execution_count": 21,
   "metadata": {
    "collapsed": false
   },
   "outputs": [
    {
     "name": "stdout",
     "output_type": "stream",
     "text": [
      "CPU times: user 796 ms, sys: 0 ns, total: 796 ms\n",
      "Wall time: 883 ms\n",
      "Variance score: 0.89\n"
     ]
    }
   ],
   "source": [
    "# XGBoost regression model\n",
    "%time xgb_model = xgb.XGBRegressor().fit(X_train, y_train)\n",
    "y_pred = xgb_model.predict(X_test)\n",
    "\n",
    "print ('Variance score: %.2f' %xgb_model.score(X_test, y_test))"
   ]
  },
  {
   "cell_type": "code",
   "execution_count": 22,
   "metadata": {
    "collapsed": false
   },
   "outputs": [
    {
     "data": {
      "image/png": "[encoded data removed]",
      "text/plain": [
       "<matplotlib.figure.Figure at 0x7f2898615a50>"
      ]
     },
     "metadata": {},
     "output_type": "display_data"
    }
   ],
   "source": [
    "# Conversion of the problem to a classification problem\n",
    "target_bin = [None]*target.count()\n",
    "for ind,val in enumerate(target):\n",
    "    if val == 0:\n",
    "        target_bin[ind] = 0\n",
    "    elif val == 1:\n",
    "        target_bin[ind] = 1\n",
    "    elif val == 2:\n",
    "        target_bin[ind] = 2\n",
    "    elif val == 3:\n",
    "        target_bin[ind] = 3\n",
    "    elif val <= 5:\n",
    "        target_bin[ind] = 4\n",
    "    elif val <= 8:\n",
    "        target_bin[ind] = 5\n",
    "    elif val <= 13:\n",
    "        target_bin[ind] = 6\n",
    "    elif val <= 21:\n",
    "        target_bin[ind] = 7\n",
    "    else:\n",
    "        target_bin[ind] = 8\n",
    "\n",
    "plt.hist(target_bin,bins=9)\n",
    "plt.show()"
   ]
  },
  {
   "cell_type": "code",
   "execution_count": 23,
   "metadata": {
    "collapsed": true
   },
   "outputs": [],
   "source": [
    "# Divide the data into a training-testing subsets\n",
    "seed = 43\n",
    "train_size = 0.7\n",
    "X_train, X_test, y_train, y_test = \\\n",
    "train_test_split(numeric_data, target_bin, train_size = train_size, random_state = seed)"
   ]
  },
  {
   "cell_type": "code",
   "execution_count": 25,
   "metadata": {
    "collapsed": false
   },
   "outputs": [
    {
     "name": "stdout",
     "output_type": "stream",
     "text": [
      "CPU times: user 24 ms, sys: 8 ms, total: 32 ms\n",
      "Wall time: 77.5 ms\n",
      "Accuracy score: 0.53\n"
     ]
    }
   ],
   "source": [
    "# Gaussian Naive Bayes classification model\n",
    "%time gnb = GaussianNB().fit(X_train, y_train)\n",
    "y_pred = gnb.predict(X_test)\n",
    "\n",
    "print ('Accuracy score: %.2f' %gnb.score(X_test, y_test))"
   ]
  },
  {
   "cell_type": "code",
   "execution_count": 26,
   "metadata": {
    "collapsed": false
   },
   "outputs": [
    {
     "data": {
      "image/png": "[encoded data removed]",
      "text/plain": [
       "<matplotlib.figure.Figure at 0x7f2897876690>"
      ]
     },
     "metadata": {},
     "output_type": "display_data"
    }
   ],
   "source": [
    "a = np.abs(y_test - y_pred)\n",
    "plt.hist(a,bins=8)\n",
    "plt.show()"
   ]
  },
  {
   "cell_type": "code",
   "execution_count": 27,
   "metadata": {
    "collapsed": false
   },
   "outputs": [
    {
     "name": "stdout",
     "output_type": "stream",
     "text": [
      "CPU times: user 188 ms, sys: 0 ns, total: 188 ms\n",
      "Wall time: 229 ms\n",
      "Accuracy score: 0.63\n"
     ]
    }
   ],
   "source": [
    "# Decision tree classification model\n",
    "%time dtc = tree.DecisionTreeClassifier().fit(X_train, y_train)\n",
    "y_pred = dtc.predict(X_test)\n",
    "\n",
    "print ('Accuracy score: %.2f' %dtc.score(X_test, y_test))"
   ]
  },
  {
   "cell_type": "code",
   "execution_count": 28,
   "metadata": {
    "collapsed": false
   },
   "outputs": [
    {
     "data": {
      "image/png": "[encoded data removed]",
      "text/plain": [
       "<matplotlib.figure.Figure at 0x7f28980e4890>"
      ]
     },
     "metadata": {},
     "output_type": "display_data"
    }
   ],
   "source": [
    "a = np.abs(y_test - y_pred)\n",
    "plt.hist(a,bins=8)\n",
    "plt.show()"
   ]
  },
  {
   "cell_type": "code",
   "execution_count": 29,
   "metadata": {
    "collapsed": false
   },
   "outputs": [
    {
     "name": "stdout",
     "output_type": "stream",
     "text": [
      "CPU times: user 112 ms, sys: 0 ns, total: 112 ms\n",
      "Wall time: 148 ms\n",
      "Accuracy score: 0.69\n"
     ]
    }
   ],
   "source": [
    "# Random forest classification model\n",
    "%time rfc = RandomForestClassifier().fit(X_train, y_train)\n",
    "y_pred = rfc.predict(X_test)\n",
    "\n",
    "print ('Accuracy score: %.2f' %rfc.score(X_test, y_test))"
   ]
  },
  {
   "cell_type": "code",
   "execution_count": 30,
   "metadata": {
    "collapsed": false
   },
   "outputs": [
    {
     "data": {
      "image/png": "[encoded data removed]",
      "text/plain": [
       "<matplotlib.figure.Figure at 0x7f2897eeaf10>"
      ]
     },
     "metadata": {},
     "output_type": "display_data"
    }
   ],
   "source": [
    "a = np.abs(y_test - y_pred)\n",
    "plt.hist(a,bins=8)\n",
    "plt.show()"
   ]
  },
  {
   "cell_type": "markdown",
   "metadata": {},
   "source": [
    "# Metrics table\n",
    "|Algorithm           |Running time|Accuracy/Explained variance|\n",
    "|-------------------:|-----------:|--------------------------:|\n",
    "|Linear regression   |16.7 ms     |0.89                       |\n",
    "|SVM                 |1.15 s      |-0.05                      |\n",
    "|Neural network      |223 ms      |-73075.91                  |\n",
    "|XGBoost             |829 ms      |0.89                       |\n",
    "|Gaussian Naive Bayes|21.7 ms     |0.53                       |\n",
    "|Decision tree       |249 ms      |0.62                       |\n",
    "|Random forest       |144 ms      |0.69                       |\n"
   ]
  }
 ],
 "metadata": {
  "kernelspec": {
   "display_name": "Python 2",
   "language": "python",
   "name": "python2"
  },
  "language_info": {
   "codemirror_mode": {
    "name": "ipython",
    "version": 2
   },
   "file_extension": ".py",
   "mimetype": "text/x-python",
   "name": "python",
   "nbconvert_exporter": "python",
   "pygments_lexer": "ipython2",
   "version": "2.7.13"
  }
 },
 "nbformat": 4,
 "nbformat_minor": 2
}
