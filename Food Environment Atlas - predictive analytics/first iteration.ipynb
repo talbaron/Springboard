{
 "cells": [
  {
   "cell_type": "code",
   "execution_count": 1,
   "metadata": {
    "collapsed": false
   },
   "outputs": [],
   "source": [
    "import numpy as np\n",
    "import pandas as pd\n",
    "from sklearn import linear_model\n",
    "from sklearn.decomposition import PCA\n",
    "from sklearn.feature_selection import SelectKBest\n",
    "import matplotlib.pyplot as plt"
   ]
  },
  {
   "cell_type": "code",
   "execution_count": 2,
   "metadata": {
    "collapsed": false
   },
   "outputs": [],
   "source": [
    "# Import the entire dataset\n",
    "dataset = pd.read_excel('Dataset',sheetname=None)"
   ]
  },
  {
   "cell_type": "code",
   "execution_count": 3,
   "metadata": {
    "collapsed": false
   },
   "outputs": [],
   "source": [
    "data = dataset['Supplemental Data - County']\n",
    "data = data.rename(columns={'FIPS Code':'FIPS','County Name':'County'})"
   ]
  },
  {
   "cell_type": "code",
   "execution_count": 4,
   "metadata": {
    "collapsed": false
   },
   "outputs": [],
   "source": [
    "# Merge all the excel worksheets into one DataFrame\n",
    "for sheet in dataset:\n",
    "    if 'FIPS' in dataset[sheet]:\n",
    "        data = pd.merge(dataset[sheet],data,on=['FIPS','State','County']) "
   ]
  },
  {
   "cell_type": "code",
   "execution_count": 5,
   "metadata": {
    "collapsed": false
   },
   "outputs": [],
   "source": [
    "# Filter columns that have many NaN values\n",
    "for col in data.columns:\n",
    "    if data[col].isnull().sum() > 100:\n",
    "        del data[col]\n",
    "    else:\n",
    "        data = data[data[col].notnull()]"
   ]
  },
  {
   "cell_type": "code",
   "execution_count": 6,
   "metadata": {
    "collapsed": false
   },
   "outputs": [],
   "source": [
    "# DataFrame of only the numeric features\n",
    "numerics = ['int16', 'int32', 'int64', 'float16', 'float32', 'float64']\n",
    "numeric_data = data.select_dtypes(include=numerics)"
   ]
  },
  {
   "cell_type": "code",
   "execution_count": 7,
   "metadata": {
    "collapsed": false
   },
   "outputs": [],
   "source": [
    "# Pick a target column, save it, and delete it from the data\n",
    "feature = 'SUPERC12'\n",
    "target = numeric_data[feature]\n",
    "del numeric_data[feature]"
   ]
  },
  {
   "cell_type": "code",
   "execution_count": 9,
   "metadata": {
    "collapsed": false
   },
   "outputs": [],
   "source": [
    "# Select the k most predictive features of the target column\n",
    "k_best = SelectKBest(k=4)\n",
    "k_data = k_best.fit(numeric_data,target)"
   ]
  },
  {
   "cell_type": "code",
   "execution_count": 10,
   "metadata": {
    "collapsed": false
   },
   "outputs": [
    {
     "data": {
      "text/plain": [
       "Index([u'FFR07', u'SUPERC07', u'CONVS12', u'Population Estimate, 2011'], dtype='object')"
      ]
     },
     "execution_count": 10,
     "metadata": {},
     "output_type": "execute_result"
    }
   ],
   "source": [
    "k_columns = k_data.get_support(True)\n",
    "numeric_data.columns[k_columns]"
   ]
  },
  {
   "cell_type": "code",
   "execution_count": 11,
   "metadata": {
    "collapsed": false
   },
   "outputs": [
    {
     "data": {
      "text/plain": [
       "array([ 0.99999998])"
      ]
     },
     "execution_count": 11,
     "metadata": {},
     "output_type": "execute_result"
    }
   ],
   "source": [
    "# PCA for the k most predictive features\n",
    "pca = PCA(n_components=1)\n",
    "reduct_data = pca.fit_transform(numeric_data[numeric_data.columns[k_columns]])\n",
    "pca.explained_variance_ratio_"
   ]
  },
  {
   "cell_type": "code",
   "execution_count": 12,
   "metadata": {
    "collapsed": false
   },
   "outputs": [
    {
     "data": {
      "image/png": "[encoded data removed]",
      "text/plain": [
       "<matplotlib.figure.Figure at 0x7f3d9453fe50>"
      ]
     },
     "metadata": {},
     "output_type": "display_data"
    }
   ],
   "source": [
    "plt.plot(reduct_data,target,'.')\n",
    "plt.show()"
   ]
  },
  {
   "cell_type": "code",
   "execution_count": 13,
   "metadata": {
    "collapsed": false
   },
   "outputs": [],
   "source": [
    "# Divide the data into a training testing subsets\n",
    "dataX = numeric_data[numeric_data.columns[k_columns]]\n",
    "datay = target\n",
    "trainNum = len(dataX)*70/100\n",
    "ind = np.random.permutation(len(dataX))\n",
    "trainX = dataX.iloc[ind[:trainNum]]\n",
    "testX = dataX.iloc[ind[trainNum:]]\n",
    "trainy = datay.iloc[ind[:trainNum]]\n",
    "testy = datay.iloc[ind[trainNum:]]"
   ]
  },
  {
   "cell_type": "code",
   "execution_count": 14,
   "metadata": {
    "collapsed": false
   },
   "outputs": [
    {
     "data": {
      "text/plain": [
       "LinearRegression(copy_X=True, fit_intercept=True, n_jobs=1, normalize=False)"
      ]
     },
     "execution_count": 14,
     "metadata": {},
     "output_type": "execute_result"
    }
   ],
   "source": [
    "# A linear regression model\n",
    "regr = linear_model.LinearRegression()\n",
    "regr.fit(trainX, trainy)"
   ]
  },
  {
   "cell_type": "code",
   "execution_count": 15,
   "metadata": {
    "collapsed": false
   },
   "outputs": [
    {
     "name": "stdout",
     "output_type": "stream",
     "text": [
      "('Coefficients: \\n', array([ -1.75176181e-04,   1.05553971e+00,   9.54302802e-03,\n",
      "         4.77276966e-07]))\n",
      "('intercept: \\n', 0.14503555215058461)\n",
      "Mean squared error: 0.782942\n",
      "Variance score: 0.92\n"
     ]
    }
   ],
   "source": [
    "# The coefficients\n",
    "print('Coefficients: \\n', regr.coef_)\n",
    "\n",
    "# The intercept\n",
    "print('intercept: \\n', regr.intercept_)\n",
    "\n",
    "# The mean squared error\n",
    "print(\"Mean squared error: %.6f\" % np.mean((regr.predict(testX) - testy) ** 2))\n",
    "\n",
    "# Explained variance score: 1 is perfect prediction\n",
    "print('Variance score: %.2f' % regr.score(testX, testy))"
   ]
  }
 ],
 "metadata": {
  "kernelspec": {
   "display_name": "Python 2",
   "language": "python",
   "name": "python2"
  },
  "language_info": {
   "codemirror_mode": {
    "name": "ipython",
    "version": 2
   },
   "file_extension": ".py",
   "mimetype": "text/x-python",
   "name": "python",
   "nbconvert_exporter": "python",
   "pygments_lexer": "ipython2",
   "version": "2.7.13"
  }
 },
 "nbformat": 4,
 "nbformat_minor": 2
}
